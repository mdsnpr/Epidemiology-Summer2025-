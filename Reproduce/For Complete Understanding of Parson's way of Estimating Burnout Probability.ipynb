{
 "cells": [
  {
   "cell_type": "markdown",
   "id": "b641f69b-0f6f-4a23-b805-f9790e3085a6",
   "metadata": {},
   "source": [
    "[Burnout R Package](https://github.com/davidearn/burnout)"
   ]
  },
  {
   "cell_type": "code",
   "execution_count": null,
   "id": "951d5cb7-769e-41e6-bd7a-4a6e0b3140bb",
   "metadata": {},
   "outputs": [],
   "source": []
  }
 ],
 "metadata": {
  "kernelspec": {
   "display_name": "Python 3 (ipykernel)",
   "language": "python",
   "name": "python3"
  },
  "language_info": {
   "codemirror_mode": {
    "name": "ipython",
    "version": 3
   },
   "file_extension": ".py",
   "mimetype": "text/x-python",
   "name": "python",
   "nbconvert_exporter": "python",
   "pygments_lexer": "ipython3",
   "version": "3.12.3"
  }
 },
 "nbformat": 4,
 "nbformat_minor": 5
}
